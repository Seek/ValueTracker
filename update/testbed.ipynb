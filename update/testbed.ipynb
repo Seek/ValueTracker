{
 "cells": [
  {
   "cell_type": "code",
   "execution_count": 1,
   "metadata": {
    "collapsed": false
   },
   "outputs": [],
   "source": [
    "import sqlite3\n",
    "import ssl\n",
    "import urllib.request\n",
    "import json\n",
    "\n",
    "url = \"https://api.hearthstonejson.com/v1/latest/enUS/cards.collectible.json\"\n",
    "def download_hsjson(url):\n",
    "    context = ssl._create_unverified_context()\n",
    "    req = urllib.request.urlopen(url, context=context)\n",
    "    f = req.read()\n",
    "    with open('cards.collectible.json', 'wb') as file:\n",
    "        file.write(f)\n",
    "    return f"
   ]
  },
  {
   "cell_type": "code",
   "execution_count": 2,
   "metadata": {
    "collapsed": false
   },
   "outputs": [],
   "source": [
    "raw_data = download_hsjson(url)"
   ]
  },
  {
   "cell_type": "code",
   "execution_count": 3,
   "metadata": {
    "collapsed": false
   },
   "outputs": [],
   "source": [
    "with open('cards.collectible.json', 'r', encoding='utf-8') as f:\n",
    "    cards_json = json.load(f)"
   ]
  },
  {
   "cell_type": "code",
   "execution_count": 4,
   "metadata": {
    "collapsed": false
   },
   "outputs": [
    {
     "name": "stdout",
     "output_type": "stream",
     "text": [
      "Commanding Shout\n",
      "Museum Curator\n",
      "Ice Rager\n",
      "Unearthed Raptor\n",
      "Fireguard Destroyer\n",
      "Flametongue Totem\n",
      "Windfury Harpy\n",
      "Blade Flurry\n",
      "Force of Nature\n",
      "Healing Touch\n"
     ]
    }
   ],
   "source": [
    "for i in range(10):\n",
    "    c = cards_json[i]\n",
    "    print(c['name'])"
   ]
  },
  {
   "cell_type": "code",
   "execution_count": 5,
   "metadata": {
    "collapsed": true
   },
   "outputs": [],
   "source": [
    "path_to_db = 'stats.db'"
   ]
  },
  {
   "cell_type": "code",
   "execution_count": 6,
   "metadata": {
    "collapsed": true
   },
   "outputs": [],
   "source": [
    "tbl_query = r\"SELECT * FROM sqlite_master WHERE type='table'\"\n",
    "\n",
    "create_cards_table_sql = r\"\"\"CREATE TABLE \"cards\" (\n",
    "\t`id`\tTEXT NOT NULL,\n",
    "\t`name`\tTEXT NOT NULL,\n",
    "\t`rarity`\tTEXT NOT NULL,\n",
    "\t`cost`\tINTEGER NOT NULL,\n",
    "\t`attack`\tINTEGER NOT NULL,\n",
    "\t`health`\tINTEGER NOT NULL,\n",
    "\t`set`\tTEXT,\n",
    "\tPRIMARY KEY(id)\n",
    ")\"\"\"\n",
    "\n",
    "create_hero_table_sql = r\"\"\"CREATE TABLE \"cards\" (\n",
    "\t`id`\tTEXT NOT NULL,\n",
    "\t`name`\tTEXT NOT NULL,\n",
    "\t`rarity`\tTEXT NOT NULL,\n",
    "\t`cost`\tINTEGER NOT NULL,\n",
    "\t`attack`\tINTEGER NOT NULL,\n",
    "\t`health`\tINTEGER NOT NULL,\n",
    "\t`set`\tTEXT,\n",
    "\tPRIMARY KEY(id)\n",
    ")\"\"\"\n",
    "\n",
    "create_deck_table_sql = r\"\"\"CREATE TABLE `deck` (\n",
    "\t`id`\tINTEGER NOT NULL PRIMARY KEY AUTOINCREMENT,\n",
    "\t`name`\tTEXT NOT NULL,\n",
    "\t`tag1`\tINTEGER,\n",
    "\t`tag2`\tINTEGER\n",
    ")\"\"\"\n",
    "\n",
    "create_match_table_sql = r\"\"\"CREATE TABLE \"match\" (\n",
    "\t`id`\tINTEGER NOT NULL PRIMARY KEY AUTOINCREMENT,\n",
    "\t`opponent`\tINTEGER NOT NULL,\n",
    "\t`first`\tINTEGER NOT NULL,\n",
    "\t`won`\tINTEGER NOT NULL,\n",
    "\t`duration`\tINTEGER NOT NULL,\n",
    "\t`date`\tDATETIME NOT NULL,\n",
    "\t`opp_hero`\tINTEGER NOT NULL,\n",
    "\t`player_hero`\tINTEGER NOT NULL,\n",
    "\t`deck`\tINTEGER NOT NULL,\n",
    "\tFOREIGN KEY(`opponent`) REFERENCES `player`(`id`),\n",
    "\tFOREIGN KEY(`opp_hero`) REFERENCES `hero`(`id`),\n",
    "\tFOREIGN KEY(`player_hero`) REFERENCES `hero`(`id`),\n",
    "\tFOREIGN KEY(`deck`) REFERENCES deck(id)\n",
    ")\"\"\"\n",
    "\n",
    "create_player_table_sql = r\"\"\"\n",
    "CREATE TABLE `player` (\n",
    "\t`id`\tINTEGER NOT NULL PRIMARY KEY AUTOINCREMENT,\n",
    "\t`name`\tTEXT NOT NULL,\n",
    "\t`high`\tINTEGER NOT NULL,\n",
    "\t`low`\tINTEGER NOT NULL\n",
    ")\"\"\"\n",
    "\n",
    "create_cards_played_sql = r\"\"\"CREATE TABLE \"card_played\" (\n",
    "\t`id`\tINTEGER NOT NULL PRIMARY KEY AUTOINCREMENT,\n",
    "\t`cardid`\tINTEGER NOT NULL,\n",
    "\t`turn`\tINTEGER NOT NULL,\n",
    "\tFOREIGN KEY(`cardid`) REFERENCES `cards`(`id`)\n",
    ")\"\"\"\n",
    "\n",
    "insert_card_sql = r\"INSERT INTO `cards`(`id`,`name`,`rarity`,`cost`,`attack`,`health`,`set`) VALUES (?,?,?,?,?,?,?);\""
   ]
  },
  {
   "cell_type": "code",
   "execution_count": 7,
   "metadata": {
    "collapsed": false
   },
   "outputs": [],
   "source": [
    "db = sqlite3.connect(path_to_db)\n",
    "db.row_factory = sqlite3.Row\n",
    "cursor = db.cursor()\n",
    "result = cursor.execute(tbl_query)\n",
    "tables = result.fetchall()\n",
    "db.close()"
   ]
  },
  {
   "cell_type": "code",
   "execution_count": 8,
   "metadata": {
    "collapsed": false
   },
   "outputs": [],
   "source": [
    "def check_table_structure(tables, **kw):\n",
    "    for table in tables:\n",
    "        name = table['name']\n",
    "        print(name)"
   ]
  },
  {
   "cell_type": "code",
   "execution_count": 9,
   "metadata": {
    "collapsed": false
   },
   "outputs": [
    {
     "name": "stdout",
     "output_type": "stream",
     "text": [
      "cards\n",
      "player\n",
      "sqlite_sequence\n",
      "hero\n",
      "match\n",
      "deck\n",
      "card_played\n"
     ]
    }
   ],
   "source": [
    "check_table_structure(tables)"
   ]
  },
  {
   "cell_type": "code",
   "execution_count": 10,
   "metadata": {
    "collapsed": false
   },
   "outputs": [],
   "source": [
    "def update_card_table(cursor, cards):\n",
    "    for card in cards:\n",
    "        result = cursor.execute(r\"SELECT id from cards WHERE name = ?\", (card['name'],))\n",
    "        row = result.fetchone()\n",
    "        if row is None:\n",
    "            # print(card['name'])\n",
    "            ins = (card['id'], card['name'], card['rarity'], card.get('cost', -1),\n",
    "                  card.get('attack', -1), card.get('health', -1), card['set'])\n",
    "            cursor.execute(insert_card_sql, ins)\n"
   ]
  },
  {
   "cell_type": "code",
   "execution_count": 12,
   "metadata": {
    "collapsed": false
   },
   "outputs": [],
   "source": [
    "db = sqlite3.connect(path_to_db)\n",
    "db.row_factory = sqlite3.Row\n",
    "cursor = db.cursor()\n",
    "update_card_table(cursor, cards_json)\n",
    "db.commit()\n",
    "db.close()"
   ]
  },
  {
   "cell_type": "code",
   "execution_count": null,
   "metadata": {
    "collapsed": false
   },
   "outputs": [],
   "source": [
    "for card in cards_json:\n",
    "    print(card['name'])"
   ]
  },
  {
   "cell_type": "code",
   "execution_count": null,
   "metadata": {
    "collapsed": true
   },
   "outputs": [],
   "source": []
  }
 ],
 "metadata": {
  "kernelspec": {
   "display_name": "Python 3",
   "language": "python",
   "name": "python3"
  },
  "language_info": {
   "codemirror_mode": {
    "name": "ipython",
    "version": 3
   },
   "file_extension": ".py",
   "mimetype": "text/x-python",
   "name": "python",
   "nbconvert_exporter": "python",
   "pygments_lexer": "ipython3",
   "version": "3.4.3"
  }
 },
 "nbformat": 4,
 "nbformat_minor": 0
}
